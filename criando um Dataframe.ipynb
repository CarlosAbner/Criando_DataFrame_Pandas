{
 "cells": [
  {
   "cell_type": "markdown",
   "id": "2ff76d1c",
   "metadata": {},
   "source": [
    "###### IMPORTANDO BIBLIOTECAS"
   ]
  },
  {
   "cell_type": "code",
   "execution_count": 1,
   "id": "de9cd5a9",
   "metadata": {},
   "outputs": [],
   "source": [
    "import pandas as pd\n",
    "import numpy as np"
   ]
  },
  {
   "cell_type": "markdown",
   "id": "7e465811",
   "metadata": {},
   "source": [
    "###### criando dataframe"
   ]
  },
  {
   "cell_type": "code",
   "execution_count": 3,
   "id": "51371232",
   "metadata": {},
   "outputs": [],
   "source": [
    "# criando um dicionario \n",
    "dicionario_cientistas = {\n",
    "    'NOME' : ['Albert Ainstein', 'Isaac Neetown', 'Marie Curie', 'Richard Feynman', 'Maria Goeppert-Mayer'],\n",
    "    'DATA_NASCIMENTO' : ['14/03/1879', '04/01/1643', '07/11/1867', '11/05/1918', '28/06/1906'],\n",
    "    'SEXO': ['Masculino', 'Masculino', 'Feminino', 'Masculino', 'Feminino']\n",
    "}"
   ]
  },
  {
   "cell_type": "markdown",
   "id": "f89ccab7",
   "metadata": {},
   "source": [
    "##### imprimindo na tela o tipo d nasssa variavel dicionario_cientistas"
   ]
  },
  {
   "cell_type": "code",
   "execution_count": 6,
   "id": "cb66bb58",
   "metadata": {},
   "outputs": [
    {
     "name": "stdout",
     "output_type": "stream",
     "text": [
      "IMPORTANTE! Vejam o nosso dicionário_cientistas, realmente é um <class 'dict'>\n",
      "\n"
     ]
    }
   ],
   "source": [
    "print(f'IMPORTANTE! Vejam o nosso dicionário_cientistas, realmente é um {type(dicionario_cientistas)}\\n')"
   ]
  },
  {
   "cell_type": "markdown",
   "id": "077331cf",
   "metadata": {},
   "source": [
    "###### depois convertemos nosso dicionario em um Dataframe"
   ]
  },
  {
   "cell_type": "code",
   "execution_count": 9,
   "id": "0fdfbf6a",
   "metadata": {},
   "outputs": [],
   "source": [
    "df_cientistas = pd.DataFrame(dicionario_cientistas)"
   ]
  },
  {
   "cell_type": "markdown",
   "id": "01d2933c",
   "metadata": {},
   "source": [
    "###### Visualizacao do resultado de todo esse processo"
   ]
  },
  {
   "cell_type": "code",
   "execution_count": 11,
   "id": "9c88efe7",
   "metadata": {},
   "outputs": [
    {
     "data": {
      "text/html": [
       "<div>\n",
       "<style scoped>\n",
       "    .dataframe tbody tr th:only-of-type {\n",
       "        vertical-align: middle;\n",
       "    }\n",
       "\n",
       "    .dataframe tbody tr th {\n",
       "        vertical-align: top;\n",
       "    }\n",
       "\n",
       "    .dataframe thead th {\n",
       "        text-align: right;\n",
       "    }\n",
       "</style>\n",
       "<table border=\"1\" class=\"dataframe\">\n",
       "  <thead>\n",
       "    <tr style=\"text-align: right;\">\n",
       "      <th></th>\n",
       "      <th>NOME</th>\n",
       "      <th>DATA_NASCIMENTO</th>\n",
       "      <th>SEXO</th>\n",
       "    </tr>\n",
       "  </thead>\n",
       "  <tbody>\n",
       "    <tr>\n",
       "      <th>0</th>\n",
       "      <td>Albert Ainstein</td>\n",
       "      <td>14/03/1879</td>\n",
       "      <td>Masculino</td>\n",
       "    </tr>\n",
       "    <tr>\n",
       "      <th>1</th>\n",
       "      <td>Isaac Neetown</td>\n",
       "      <td>04/01/1643</td>\n",
       "      <td>Masculino</td>\n",
       "    </tr>\n",
       "    <tr>\n",
       "      <th>2</th>\n",
       "      <td>Marie Curie</td>\n",
       "      <td>07/11/1867</td>\n",
       "      <td>Feminino</td>\n",
       "    </tr>\n",
       "    <tr>\n",
       "      <th>3</th>\n",
       "      <td>Richard Feynman</td>\n",
       "      <td>11/05/1918</td>\n",
       "      <td>Masculino</td>\n",
       "    </tr>\n",
       "    <tr>\n",
       "      <th>4</th>\n",
       "      <td>Maria Goeppert-Mayer</td>\n",
       "      <td>28/06/1906</td>\n",
       "      <td>Feminino</td>\n",
       "    </tr>\n",
       "  </tbody>\n",
       "</table>\n",
       "</div>"
      ],
      "text/plain": [
       "                   NOME DATA_NASCIMENTO       SEXO\n",
       "0       Albert Ainstein      14/03/1879  Masculino\n",
       "1         Isaac Neetown      04/01/1643  Masculino\n",
       "2           Marie Curie      07/11/1867   Feminino\n",
       "3       Richard Feynman      11/05/1918  Masculino\n",
       "4  Maria Goeppert-Mayer      28/06/1906   Feminino"
      ]
     },
     "execution_count": 11,
     "metadata": {},
     "output_type": "execute_result"
    }
   ],
   "source": [
    "df_cientistas"
   ]
  },
  {
   "cell_type": "code",
   "execution_count": null,
   "id": "a4da485b",
   "metadata": {},
   "outputs": [],
   "source": []
  },
  {
   "cell_type": "code",
   "execution_count": null,
   "id": "69766940",
   "metadata": {},
   "outputs": [],
   "source": []
  }
 ],
 "metadata": {
  "kernelspec": {
   "display_name": "Python 3 (ipykernel)",
   "language": "python",
   "name": "python3"
  },
  "language_info": {
   "codemirror_mode": {
    "name": "ipython",
    "version": 3
   },
   "file_extension": ".py",
   "mimetype": "text/x-python",
   "name": "python",
   "nbconvert_exporter": "python",
   "pygments_lexer": "ipython3",
   "version": "3.9.7"
  }
 },
 "nbformat": 4,
 "nbformat_minor": 5
}
